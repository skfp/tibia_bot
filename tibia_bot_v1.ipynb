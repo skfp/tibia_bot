{
 "cells": [
  {
   "cell_type": "code",
   "execution_count": 2,
   "metadata": {},
   "outputs": [],
   "source": [
    "#importing libraries\n",
    "import pyautogui\n",
    "import time\n",
    "\n",
    "#basic settings\n",
    "pyautogui.PAUSE=1\n",
    "pyautogui.FAILSAFE=True"
   ]
  },
  {
   "cell_type": "code",
   "execution_count": 3,
   "metadata": {},
   "outputs": [
    {
     "data": {
      "text/plain": [
       "Size(width=1440, height=900)"
      ]
     },
     "execution_count": 3,
     "metadata": {},
     "output_type": "execute_result"
    }
   ],
   "source": [
    "#checking screen size\n",
    "pyautogui.size()"
   ]
  },
  {
   "cell_type": "code",
   "execution_count": 4,
   "metadata": {},
   "outputs": [],
   "source": [
    "red=(255, 0, 0, 255)\n",
    "half_red=(255, 128, 128, 255)\n",
    "green_life_bar=(27, 199, 27, 255)\n",
    "grey_combat_1_life_bar=(74, 74, 73, 255) #(70,70,70,255) dla #pyautogui.click(1374,468,button=\"left\")\n",
    "almost_full_mana_blue=(0, 63, 141, 255)\n",
    "#grey_life_bar_80pc=(510,53)\n",
    "grey_life_bar_80pc_colour=(35, 36, 35, 255)\n",
    "#bp_fish_loc=(1292,559)\n",
    "#fish_colour=(107, 125, 122, 255)\n",
    "#loot_1_pos_fish=\n",
    "#loot_2_pos_fish=\n",
    "#loot_3_pos_fish=\n",
    "#loot_4_pos_fish=\n",
    "\n",
    "#gold_1_color=\n",
    "#gold_2_color=\n",
    "#gold_3_color=\n",
    "#gold_4_color=\n",
    "#gold_5_color=\n",
    "#gold_10_color=\n",
    "\n",
    "stop_value = 1\n",
    "#stop_value = 6000\n",
    "\n",
    "#Point(x=20, y=54) = life_bar\n",
    "map_brown=(153, 102, 51, 255)\n",
    "map_green=(0, 204, 0, 255)\n",
    "map_grey=(153, 153, 153, 255)\n",
    "map_middle=(1322,100)\n",
    "since_started_walking=20\n",
    "for i in range(1,stop_value):\n",
    "    time.sleep(0.6)\n",
    "    since_started_walking=since_started_walking+1\n",
    "    if (i%20==0):\n",
    "        pyautogui.press('f7')\n",
    "    battle_1_colour=get_pixel_colour(1271, 470)\n",
    "    battle_2_colour=get_pixel_colour(1271, 473)\n",
    "    battle_1_life_bar_colour=get_pixel_colour(1314,468)\n",
    "    almost_full_mana_colour=get_pixel_colour(773,54)\n",
    "    if (battle_1_colour==red or battle_2_colour==red or battle_1_colour==half_red or battle_2_colour==half_red):\n",
    "        combat_mode=1\n",
    "        pyautogui.press('f4')\n",
    "    else:\n",
    "        combat_mode=0\n",
    "    if (combat_mode==1):\n",
    "        #time.sleep(0.1)\n",
    "        #print(battle_1_color[1])\n",
    "        #print(\"red\")\n",
    "        #pyautogui.click(151, 692)\n",
    "        pyautogui.press('f4')\n",
    "    else:\n",
    "        if (battle_1_life_bar_colour!=grey_combat_1_life_bar and combat_mode==0):\n",
    "            #pyautogui.click(1374,468,button=\"left\")\n",
    "            pyautogui.moveTo(1314,468,duration=0.05)\n",
    "            pyautogui.mouseDown()\n",
    "            time.sleep(0.05)            \n",
    "            pyautogui.mouseUp()\n",
    "            time.sleep(0.1) \n",
    "            pyautogui.press('f4')\n",
    "            if (battle_1_colour==red or battle_2_colour==red or battle_1_colour==half_red or battle_2_colour==half_red):\n",
    "                combat_mode=1\n",
    "            time.sleep(0.2)\n",
    "            #if (combat_mode==1):\n",
    "                #pyautogui.click(151, 692)\n",
    "                #pyautogui.press('f4')\n",
    "        if (battle_1_life_bar_colour==grey_combat_1_life_bar and combat_mode==0):\n",
    "            am_i_walking=0\n",
    "            while (am_i_walking==0 and since_started_walking>10):\n",
    "                random_x=(15+randrange(15))*(randrange(2)*2-1)\n",
    "                random_y=(15+randrange(15))*(randrange(2)*2-1)\n",
    "                click_x=map_middle[1]+random_x\n",
    "                click_y=map_middle[0]+random_y\n",
    "                if (get_pixel_colour(click_y,click_x)==map_brown or get_pixel_colour(click_y,click_x)==map_green or get_pixel_colour(click_y,click_x)==map_grey):\n",
    "                    pyautogui.click(click_y,click_x,button=\"left\")\n",
    "                    since_started_walking=0\n",
    "                    am_i_walking=1\n",
    "    life_bar_colour=get_pixel_colour(20, 54)\n",
    "    if (i%2==0):  \n",
    "        life_bar_80pc=get_pixel_colour(510, 53)\n",
    "        if (almost_full_mana_colour==almost_full_mana_blue):\n",
    "            #pyautogui.click(107, 692)\n",
    "            pyautogui.press('f3')\n",
    "        else:\n",
    "            #if (life_bar_colour!=green_life_bar):\n",
    "            if (life_bar_80pc==grey_life_bar_80pc_colour):\n",
    "                #pyautogui.click(107, 692)\n",
    "                pyautogui.press('f3')\n",
    "    #pyautogui.moveTo(30,468,duration=0.05)"
   ]
  },
  {
   "cell_type": "code",
   "execution_count": null,
   "metadata": {},
   "outputs": [],
   "source": []
  },
  {
   "cell_type": "code",
   "execution_count": null,
   "metadata": {},
   "outputs": [],
   "source": []
  }
 ],
 "metadata": {
  "kernelspec": {
   "display_name": "Python 3",
   "language": "python",
   "name": "python3"
  },
  "language_info": {
   "codemirror_mode": {
    "name": "ipython",
    "version": 3
   },
   "file_extension": ".py",
   "mimetype": "text/x-python",
   "name": "python",
   "nbconvert_exporter": "python",
   "pygments_lexer": "ipython3",
   "version": "3.7.4"
  }
 },
 "nbformat": 4,
 "nbformat_minor": 2
}
