{
 "cells": [
  {
   "cell_type": "code",
   "execution_count": 2,
   "metadata": {},
   "outputs": [],
   "source": [
    "import pyautogui\n",
    "import time\n",
    "\n",
    "pyautogui.PAUSE=1\n",
    "pyautogui.FAILSAFE=True"
   ]
  },
  {
   "cell_type": "code",
   "execution_count": 7,
   "metadata": {},
   "outputs": [
    {
     "data": {
      "text/plain": [
       "Size(width=1440, height=900)"
      ]
     },
     "execution_count": 7,
     "metadata": {},
     "output_type": "execute_result"
    }
   ],
   "source": [
    "pyautogui.size()"
   ]
  },
  {
   "cell_type": "code",
   "execution_count": 12,
   "metadata": {},
   "outputs": [],
   "source": [
    "pyautogui.moveTo(300,300,duration=0.5)"
   ]
  },
  {
   "cell_type": "code",
   "execution_count": 7,
   "metadata": {},
   "outputs": [
    {
     "data": {
      "text/plain": [
       "Point(x=1206, y=110)"
      ]
     },
     "execution_count": 7,
     "metadata": {},
     "output_type": "execute_result"
    }
   ],
   "source": [
    "pyautogui.position()"
   ]
  },
  {
   "cell_type": "code",
   "execution_count": 3,
   "metadata": {},
   "outputs": [
    {
     "name": "stdout",
     "output_type": "stream",
     "text": [
      "Point(x=70, y=538)\n"
     ]
    }
   ],
   "source": [
    "for i in range(1,2):\n",
    "    print(pyautogui.position())\n",
    "    time.sleep(1)"
   ]
  },
  {
   "cell_type": "code",
   "execution_count": null,
   "metadata": {},
   "outputs": [],
   "source": [
    "#Point(x=1350, y=73)"
   ]
  },
  {
   "cell_type": "code",
   "execution_count": 24,
   "metadata": {},
   "outputs": [],
   "source": [
    "time.sleep(5)\n",
    "pyautogui.click(1350,73,button=\"right\")"
   ]
  },
  {
   "cell_type": "code",
   "execution_count": 26,
   "metadata": {},
   "outputs": [],
   "source": [
    "pyautogui.click(1350,73)"
   ]
  },
  {
   "cell_type": "code",
   "execution_count": 27,
   "metadata": {},
   "outputs": [],
   "source": [
    "pyautogui.mouseDown()"
   ]
  },
  {
   "cell_type": "code",
   "execution_count": 39,
   "metadata": {},
   "outputs": [
    {
     "name": "stdout",
     "output_type": "stream",
     "text": [
      "(238, 238, 238, 255)\n"
     ]
    }
   ],
   "source": [
    "#import struct\n",
    "#import operator\n",
    "import PIL.ImageGrab\n",
    "\n",
    "#def get_pixel_colour(i_x, i_y):\n",
    "#\treturn PIL.ImageGrab.grab().load()[i_x, i_y]\n",
    "\n",
    "def get_pixel_colour(i_x, i_y):\n",
    "    px_col_raw=PIL.ImageGrab.grab().load()[i_x, i_y]\n",
    "#     print(type(px_col_raw))\n",
    "#     f=open(\"colour.txt\",\"w+\")\n",
    "#     f.write(px_col_raw)\n",
    "#     f.close()\n",
    "#     f=open(\"colour.txt\", \"r\")\n",
    "#     if f.mode == 'r':\n",
    "#         px_col_str =f.read()\n",
    "    return px_col_raw\n",
    "\n",
    "print(get_pixel_colour(70, 538))"
   ]
  },
  {
   "cell_type": "code",
   "execution_count": 8,
   "metadata": {},
   "outputs": [
    {
     "name": "stdout",
     "output_type": "stream",
     "text": [
      "(255, 220, 0, 255)\n"
     ]
    }
   ],
   "source": [
    "print(get_pixel_colour(1206, 110))"
   ]
  },
  {
   "cell_type": "code",
   "execution_count": 9,
   "metadata": {},
   "outputs": [
    {
     "data": {
      "text/plain": [
       "Point(x=107, y=692)"
      ]
     },
     "execution_count": 9,
     "metadata": {},
     "output_type": "execute_result"
    }
   ],
   "source": [
    "time.sleep(10)\n",
    "pyautogui.position()"
   ]
  },
  {
   "cell_type": "code",
   "execution_count": 13,
   "metadata": {},
   "outputs": [
    {
     "data": {
      "text/plain": [
       "Point(x=1271, y=469)"
      ]
     },
     "execution_count": 13,
     "metadata": {},
     "output_type": "execute_result"
    }
   ],
   "source": [
    "time.sleep(10)\n",
    "pyautogui.position()"
   ]
  },
  {
   "cell_type": "code",
   "execution_count": 11,
   "metadata": {},
   "outputs": [],
   "source": [
    "#Point(x=107, y=692) = F3\n",
    "#Point(x=151, y=696) = F4\n",
    "#Point(x=20, y=54) = life_bar\n",
    "#Point(x=1271, y=470) = Combat_1\n",
    "#Point(x=1271, y=473) = Combat_2\n",
    "# = Combat_3\n",
    "#Point(x=1374, y=468) = Combat_1_life_bar\n",
    "#(773,54) = mana almost full"
   ]
  },
  {
   "cell_type": "code",
   "execution_count": 45,
   "metadata": {},
   "outputs": [
    {
     "name": "stdout",
     "output_type": "stream",
     "text": [
      "(73, 73, 73, 255)\n",
      "(71, 71, 71, 255)\n",
      "(255, 0, 0, 255)\n",
      "(77, 77, 76, 255)\n",
      "(75, 75, 75, 255)\n",
      "(69, 69, 69, 255)\n",
      "(78, 78, 78, 255)\n",
      "(72, 72, 72, 255)\n",
      "(70, 71, 70, 255)\n",
      "(74, 74, 73, 255)\n",
      "(70, 70, 70, 255)\n",
      "(255, 255, 255, 255)\n",
      "(255, 255, 255, 255)\n",
      "(255, 255, 255, 255)\n"
     ]
    },
    {
     "ename": "KeyboardInterrupt",
     "evalue": "",
     "output_type": "error",
     "traceback": [
      "\u001b[0;31m---------------------------------------------------------------------------\u001b[0m",
      "\u001b[0;31mKeyboardInterrupt\u001b[0m                         Traceback (most recent call last)",
      "\u001b[0;32m<ipython-input-45-7c8504971c95>\u001b[0m in \u001b[0;36m<module>\u001b[0;34m()\u001b[0m\n\u001b[1;32m      1\u001b[0m \u001b[0;32mfor\u001b[0m \u001b[0mi\u001b[0m \u001b[0;32min\u001b[0m \u001b[0mrange\u001b[0m\u001b[0;34m(\u001b[0m\u001b[0;36m1\u001b[0m\u001b[0;34m,\u001b[0m\u001b[0;36m50\u001b[0m\u001b[0;34m)\u001b[0m\u001b[0;34m:\u001b[0m\u001b[0;34m\u001b[0m\u001b[0;34m\u001b[0m\u001b[0m\n\u001b[0;32m----> 2\u001b[0;31m     \u001b[0mtime\u001b[0m\u001b[0;34m.\u001b[0m\u001b[0msleep\u001b[0m\u001b[0;34m(\u001b[0m\u001b[0;36m3\u001b[0m\u001b[0;34m)\u001b[0m\u001b[0;34m\u001b[0m\u001b[0;34m\u001b[0m\u001b[0m\n\u001b[0m\u001b[1;32m      3\u001b[0m     \u001b[0mprint\u001b[0m\u001b[0;34m(\u001b[0m\u001b[0mget_pixel_colour\u001b[0m\u001b[0;34m(\u001b[0m\u001b[0;36m1271\u001b[0m\u001b[0;34m,\u001b[0m \u001b[0;36m470\u001b[0m\u001b[0;34m+\u001b[0m\u001b[0mi\u001b[0m\u001b[0;34m)\u001b[0m\u001b[0;34m)\u001b[0m\u001b[0;34m\u001b[0m\u001b[0;34m\u001b[0m\u001b[0m\n",
      "\u001b[0;31mKeyboardInterrupt\u001b[0m: "
     ]
    }
   ],
   "source": [
    "for i in range(1,50):\n",
    "    time.sleep(3)\n",
    "    print(get_pixel_colour(1271, 470+i))"
   ]
  },
  {
   "cell_type": "code",
   "execution_count": 44,
   "metadata": {},
   "outputs": [
    {
     "name": "stdout",
     "output_type": "stream",
     "text": [
      "(27, 199, 27, 255)\n",
      "(27, 199, 27, 255)\n",
      "(27, 199, 27, 255)\n"
     ]
    }
   ],
   "source": [
    "for i in range(1,4):\n",
    "    time.sleep(5)\n",
    "    print(get_pixel_colour(20, 54))"
   ]
  },
  {
   "cell_type": "code",
   "execution_count": 176,
   "metadata": {},
   "outputs": [
    {
     "ename": "KeyboardInterrupt",
     "evalue": "",
     "output_type": "error",
     "traceback": [
      "\u001b[0;31m---------------------------------------------------------------------------\u001b[0m",
      "\u001b[0;31mKeyboardInterrupt\u001b[0m                         Traceback (most recent call last)",
      "\u001b[0;32m<ipython-input-176-ad34ca1cb510>\u001b[0m in \u001b[0;36m<module>\u001b[0;34m()\u001b[0m\n\u001b[1;32m     57\u001b[0m             \u001b[0;32mif\u001b[0m \u001b[0;34m(\u001b[0m\u001b[0mbattle_1_colour\u001b[0m\u001b[0;34m==\u001b[0m\u001b[0mred\u001b[0m \u001b[0;32mor\u001b[0m \u001b[0mbattle_2_colour\u001b[0m\u001b[0;34m==\u001b[0m\u001b[0mred\u001b[0m \u001b[0;32mor\u001b[0m \u001b[0mbattle_1_colour\u001b[0m\u001b[0;34m==\u001b[0m\u001b[0mhalf_red\u001b[0m \u001b[0;32mor\u001b[0m \u001b[0mbattle_2_colour\u001b[0m\u001b[0;34m==\u001b[0m\u001b[0mhalf_red\u001b[0m\u001b[0;34m)\u001b[0m\u001b[0;34m:\u001b[0m\u001b[0;34m\u001b[0m\u001b[0;34m\u001b[0m\u001b[0m\n\u001b[1;32m     58\u001b[0m                 \u001b[0mcombat_mode\u001b[0m\u001b[0;34m=\u001b[0m\u001b[0;36m1\u001b[0m\u001b[0;34m\u001b[0m\u001b[0;34m\u001b[0m\u001b[0m\n\u001b[0;32m---> 59\u001b[0;31m             \u001b[0mtime\u001b[0m\u001b[0;34m.\u001b[0m\u001b[0msleep\u001b[0m\u001b[0;34m(\u001b[0m\u001b[0;36m0.2\u001b[0m\u001b[0;34m)\u001b[0m\u001b[0;34m\u001b[0m\u001b[0;34m\u001b[0m\u001b[0m\n\u001b[0m\u001b[1;32m     60\u001b[0m             \u001b[0;31m#if (combat_mode==1):\u001b[0m\u001b[0;34m\u001b[0m\u001b[0;34m\u001b[0m\u001b[0;34m\u001b[0m\u001b[0m\n\u001b[1;32m     61\u001b[0m                 \u001b[0;31m#pyautogui.click(151, 692)\u001b[0m\u001b[0;34m\u001b[0m\u001b[0;34m\u001b[0m\u001b[0;34m\u001b[0m\u001b[0m\n",
      "\u001b[0;31mKeyboardInterrupt\u001b[0m: "
     ]
    }
   ],
   "source": [
    "red=(255, 0, 0, 255)\n",
    "half_red=(255, 128, 128, 255)\n",
    "green_life_bar=(27, 199, 27, 255)\n",
    "grey_combat_1_life_bar=(74, 74, 73, 255) #(70,70,70,255) dla #pyautogui.click(1374,468,button=\"left\")\n",
    "almost_full_mana_blue=(0, 63, 141, 255)\n",
    "#grey_life_bar_80pc=(510,53)\n",
    "grey_life_bar_80pc_colour=(35, 36, 35, 255)\n",
    "#bp_fish_loc=(1292,559)\n",
    "#fish_colour=(107, 125, 122, 255)\n",
    "#loot_1_pos_fish=\n",
    "#loot_2_pos_fish=\n",
    "#loot_3_pos_fish=\n",
    "#loot_4_pos_fish=\n",
    "\n",
    "#gold_1_color=\n",
    "#gold_2_color=\n",
    "#gold_3_color=\n",
    "#gold_4_color=\n",
    "#gold_5_color=\n",
    "#gold_10_color=\n",
    "\n",
    "#Point(x=20, y=54) = life_bar\n",
    "map_brown=(153, 102, 51, 255)\n",
    "map_green=(0, 204, 0, 255)\n",
    "map_grey=(153, 153, 153, 255)\n",
    "map_middle=(1322,100)\n",
    "since_started_walking=20\n",
    "for i in range(1,6000):\n",
    "    time.sleep(0.6)\n",
    "    since_started_walking=since_started_walking+1\n",
    "    if (i%20==0):\n",
    "        pyautogui.press('f7')\n",
    "    battle_1_colour=get_pixel_colour(1271, 470)\n",
    "    battle_2_colour=get_pixel_colour(1271, 473)\n",
    "    battle_1_life_bar_colour=get_pixel_colour(1314,468)\n",
    "    almost_full_mana_colour=get_pixel_colour(773,54)\n",
    "    if (battle_1_colour==red or battle_2_colour==red or battle_1_colour==half_red or battle_2_colour==half_red):\n",
    "        combat_mode=1\n",
    "        pyautogui.press('f4')\n",
    "    else:\n",
    "        combat_mode=0\n",
    "    if (combat_mode==1):\n",
    "        #time.sleep(0.1)\n",
    "        #print(battle_1_color[1])\n",
    "        #print(\"red\")\n",
    "        #pyautogui.click(151, 692)\n",
    "        pyautogui.press('f4')\n",
    "    else:\n",
    "        if (battle_1_life_bar_colour!=grey_combat_1_life_bar and combat_mode==0):\n",
    "            #pyautogui.click(1374,468,button=\"left\")\n",
    "            pyautogui.moveTo(1314,468,duration=0.05)\n",
    "            pyautogui.mouseDown()\n",
    "            time.sleep(0.05)            \n",
    "            pyautogui.mouseUp()\n",
    "            time.sleep(0.1) \n",
    "            pyautogui.press('f4')\n",
    "            if (battle_1_colour==red or battle_2_colour==red or battle_1_colour==half_red or battle_2_colour==half_red):\n",
    "                combat_mode=1\n",
    "            time.sleep(0.2)\n",
    "            #if (combat_mode==1):\n",
    "                #pyautogui.click(151, 692)\n",
    "                #pyautogui.press('f4')\n",
    "        if (battle_1_life_bar_colour==grey_combat_1_life_bar and combat_mode==0):\n",
    "            am_i_walking=0\n",
    "            while (am_i_walking==0 and since_started_walking>10):\n",
    "                random_x=(15+randrange(15))*(randrange(2)*2-1)\n",
    "                random_y=(15+randrange(15))*(randrange(2)*2-1)\n",
    "                click_x=map_middle[1]+random_x\n",
    "                click_y=map_middle[0]+random_y\n",
    "                if (get_pixel_colour(click_y,click_x)==map_brown or get_pixel_colour(click_y,click_x)==map_green or get_pixel_colour(click_y,click_x)==map_grey):\n",
    "                    pyautogui.click(click_y,click_x,button=\"left\")\n",
    "                    since_started_walking=0\n",
    "                    am_i_walking=1\n",
    "    life_bar_colour=get_pixel_colour(20, 54)\n",
    "    if (i%2==0):  \n",
    "        life_bar_80pc=get_pixel_colour(510, 53)\n",
    "        if (almost_full_mana_colour==almost_full_mana_blue):\n",
    "            #pyautogui.click(107, 692)\n",
    "            pyautogui.press('f3')\n",
    "        else:\n",
    "            #if (life_bar_colour!=green_life_bar):\n",
    "            if (life_bar_80pc==grey_life_bar_80pc_colour):\n",
    "                #pyautogui.click(107, 692)\n",
    "                pyautogui.press('f3')\n",
    "    #pyautogui.moveTo(30,468,duration=0.05)"
   ]
  },
  {
   "cell_type": "code",
   "execution_count": 19,
   "metadata": {},
   "outputs": [],
   "source": [
    "red=(255, 0, 0, 255)"
   ]
  },
  {
   "cell_type": "code",
   "execution_count": 114,
   "metadata": {},
   "outputs": [
    {
     "data": {
      "text/plain": [
       "Point(x=1330, y=72)"
      ]
     },
     "execution_count": 114,
     "metadata": {},
     "output_type": "execute_result"
    }
   ],
   "source": [
    "time.sleep(5)\n",
    "pyautogui.position()"
   ]
  },
  {
   "cell_type": "code",
   "execution_count": 138,
   "metadata": {},
   "outputs": [
    {
     "data": {
      "text/plain": [
       "(74, 74, 73, 255)"
      ]
     },
     "execution_count": 138,
     "metadata": {},
     "output_type": "execute_result"
    }
   ],
   "source": [
    "time.sleep(5)\n",
    "get_pixel_colour(1314,468)"
   ]
  },
  {
   "cell_type": "code",
   "execution_count": 66,
   "metadata": {},
   "outputs": [
    {
     "ename": "KeyboardInterrupt",
     "evalue": "",
     "output_type": "error",
     "traceback": [
      "\u001b[0;31m---------------------------------------------------------------------------\u001b[0m",
      "\u001b[0;31mKeyboardInterrupt\u001b[0m                         Traceback (most recent call last)",
      "\u001b[0;32m<ipython-input-66-8f00435c95e6>\u001b[0m in \u001b[0;36m<module>\u001b[0;34m()\u001b[0m\n\u001b[1;32m      1\u001b[0m \u001b[0;32mfor\u001b[0m \u001b[0mi\u001b[0m \u001b[0;32min\u001b[0m \u001b[0mrange\u001b[0m\u001b[0;34m(\u001b[0m\u001b[0;36m1\u001b[0m\u001b[0;34m,\u001b[0m\u001b[0;36m50\u001b[0m\u001b[0;34m)\u001b[0m\u001b[0;34m:\u001b[0m\u001b[0;34m\u001b[0m\u001b[0;34m\u001b[0m\u001b[0m\n\u001b[0;32m----> 2\u001b[0;31m     \u001b[0mtime\u001b[0m\u001b[0;34m.\u001b[0m\u001b[0msleep\u001b[0m\u001b[0;34m(\u001b[0m\u001b[0;36m3\u001b[0m\u001b[0;34m)\u001b[0m\u001b[0;34m\u001b[0m\u001b[0;34m\u001b[0m\u001b[0m\n\u001b[0m\u001b[1;32m      3\u001b[0m     \u001b[0mprint\u001b[0m\u001b[0;34m(\u001b[0m\u001b[0mget_pixel_colour\u001b[0m\u001b[0;34m(\u001b[0m\u001b[0;36m1271\u001b[0m\u001b[0;34m,\u001b[0m \u001b[0;36m470\u001b[0m\u001b[0;34m+\u001b[0m\u001b[0;36m3\u001b[0m\u001b[0;34m)\u001b[0m\u001b[0;34m)\u001b[0m\u001b[0;34m\u001b[0m\u001b[0;34m\u001b[0m\u001b[0m\n",
      "\u001b[0;31mKeyboardInterrupt\u001b[0m: "
     ]
    }
   ],
   "source": [
    "for i in range(1,50):\n",
    "    time.sleep(3)\n",
    "    print(get_pixel_colour(1271, 470+3))"
   ]
  },
  {
   "cell_type": "code",
   "execution_count": 87,
   "metadata": {},
   "outputs": [],
   "source": [
    "# pyautogui.keyDown('ctrl')\n",
    "# pyautogui.keyDown('c')\n",
    "# pyautogui.keyUp('c')\n",
    "# pyautogui.keyUp('ctrl')"
   ]
  },
  {
   "cell_type": "code",
   "execution_count": 124,
   "metadata": {},
   "outputs": [
    {
     "data": {
      "text/plain": [
       "Point(x=510, y=53)"
      ]
     },
     "execution_count": 124,
     "metadata": {},
     "output_type": "execute_result"
    }
   ],
   "source": [
    "time.sleep(5)\n",
    "pyautogui.position()"
   ]
  },
  {
   "cell_type": "code",
   "execution_count": 95,
   "metadata": {},
   "outputs": [
    {
     "name": "stdout",
     "output_type": "stream",
     "text": [
      "3\n"
     ]
    }
   ],
   "source": [
    "#LG Point(x=1276, y=51)\n",
    "#LD Point(x=1276, y=150)\n",
    "#PD Point(x=1370, y=150)\n",
    "#PG Point(x=1370, y=51)\n",
    "from random import randrange\n",
    "print(randrange(10))"
   ]
  },
  {
   "cell_type": "code",
   "execution_count": null,
   "metadata": {},
   "outputs": [],
   "source": []
  },
  {
   "cell_type": "code",
   "execution_count": null,
   "metadata": {},
   "outputs": [],
   "source": []
  }
 ],
 "metadata": {
  "kernelspec": {
   "display_name": "Python 3",
   "language": "python",
   "name": "python3"
  },
  "language_info": {
   "codemirror_mode": {
    "name": "ipython",
    "version": 3
   },
   "file_extension": ".py",
   "mimetype": "text/x-python",
   "name": "python",
   "nbconvert_exporter": "python",
   "pygments_lexer": "ipython3",
   "version": "3.7.4"
  }
 },
 "nbformat": 4,
 "nbformat_minor": 2
}
